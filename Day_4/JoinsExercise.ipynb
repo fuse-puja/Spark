{
 "cells": [
  {
   "attachments": {},
   "cell_type": "markdown",
   "metadata": {},
   "source": [
    "## Joins"
   ]
  },
  {
   "cell_type": "code",
   "execution_count": 57,
   "metadata": {},
   "outputs": [],
   "source": [
    "from pyspark.sql import SparkSession\n",
    "from pyspark.sql.types import StructType, StructField, IntegerType, StringType\n",
    "from pyspark.sql.functions import col, coalesce, lit\n",
    "\n",
    "# Create a Spark session\n",
    "spark = SparkSession.builder.appName(\"day3\").getOrCreate()\n"
   ]
  },
  {
   "attachments": {},
   "cell_type": "markdown",
   "metadata": {},
   "source": [
    "\n",
    "Question: You are given two DataFrames: employees_df and departments_df, which contain information about employees and their respective departments. The schema for the DataFrames is as follows:\n",
    "\n",
    "employees_df schema:\n",
    "|-- employee_id: integer (nullable = true)\n",
    "|-- employee_name: string (nullable = true)\n",
    "|-- department_id: integer (nullable = true)\n",
    "\n",
    "departments_df schema:\n",
    "\n",
    "|-- department_id: integer (nullable = true)\n",
    "|-- department_name: string (nullable = true)\n",
    "\n",
    "Employees DataFrame:\n",
    "                                                                                \n",
    "+-----------+-------------+-------------+\n",
    "|employee_id|employee_name|department_id|\n",
    "+-----------+-------------+-------------+\n",
    "|1          |Pallavi mam  |101          |\n",
    "|2          |Bob          |102          |\n",
    "|3          |Cathy        |101          |\n",
    "|4          |David        |103          |\n",
    "|5          |Amrit Sir    |104          |\n",
    "|6          |Alice        |null         |\n",
    "|7          |Eva          |null         |\n",
    "|8          |Frank        |110          |\n",
    "|9          |Grace        |109          |\n",
    "|10         |Henry        |null         |\n",
    "+-----------+-------------+-------------+\n",
    "\n",
    "\n",
    "\n",
    "Departments DataFrame:\n",
    "+-------------+------------------------+\n",
    "|department_id|department_name         |\n",
    "+-------------+------------------------+\n",
    "|101          |HR                      |\n",
    "|102          |Engineering             |\n",
    "|103          |Finance                 |\n",
    "|104          |Marketing               |\n",
    "|105          |Operations              |\n",
    "|106          |null                    |\n",
    "|107          |Operations              |\n",
    "|108          |Production              |\n",
    "|null         |Finance                 |\n",
    "|110          |Research and Development|\n",
    "+-------------+----------------------\n"
   ]
  },
  {
   "cell_type": "code",
   "execution_count": 15,
   "metadata": {},
   "outputs": [
    {
     "name": "stdout",
     "output_type": "stream",
     "text": [
      "+-----------+-------------+-------------+\n",
      "|employee_id|employee_name|department_id|\n",
      "+-----------+-------------+-------------+\n",
      "|          1|  Pallavi mam|          101|\n",
      "|          2|          Bob|          102|\n",
      "|          3|        Cathy|          101|\n",
      "|          4|        David|          103|\n",
      "|          5|    Amrit Sir|          104|\n",
      "|          6|        Alice|         null|\n",
      "|          7|          Eva|         null|\n",
      "|          8|        Frank|          110|\n",
      "|          9|        Grace|          109|\n",
      "|         10|        Henry|         null|\n",
      "+-----------+-------------+-------------+\n",
      "\n",
      "root\n",
      " |-- employee_id: integer (nullable = true)\n",
      " |-- employee_name: string (nullable = true)\n",
      " |-- department_id: integer (nullable = true)\n",
      "\n"
     ]
    }
   ],
   "source": [
    "# Define the schema using StructType and StructField\n",
    "custom_employee_schema = StructType([\n",
    "    StructField(\"employee_id\", IntegerType(), True),   # True allows null values\n",
    "    StructField(\"employee_name\", StringType(), True),\n",
    "    StructField(\"department_id\", IntegerType(), True)\n",
    "])\n",
    "\n",
    "# Define the data\n",
    "data = [\n",
    "    (1, \"Pallavi mam\", 101),\n",
    "    (2, \"Bob\", 102),\n",
    "    (3, \"Cathy\", 101),\n",
    "    (4, \"David\", 103),\n",
    "    (5, \"Amrit Sir\", 104),\n",
    "    (6, \"Alice\", None),  # Use None for null values\n",
    "    (7, \"Eva\", None),\n",
    "    (8, \"Frank\", 110),\n",
    "    (9, \"Grace\", 109),\n",
    "    (10, \"Henry\", None)]\n",
    "\n",
    "# Create a DataFrame with the custom schema and data\n",
    "employee_df =spark.createDataFrame(data,schema=custom_employee_schema)\n",
    "\n",
    "# Show the DataFrame\n",
    "employee_df.show()\n",
    "employee_df.printSchema()"
   ]
  },
  {
   "cell_type": "code",
   "execution_count": 26,
   "metadata": {},
   "outputs": [
    {
     "name": "stdout",
     "output_type": "stream",
     "text": [
      "+-------------+--------------------+\n",
      "|department_id|     department_name|\n",
      "+-------------+--------------------+\n",
      "|          101|                  HR|\n",
      "|          102|         Engineering|\n",
      "|          103|             Finance|\n",
      "|          104|           Marketing|\n",
      "|          105|          Operations|\n",
      "|          106|                null|\n",
      "|          107|          Operations|\n",
      "|          108|          Production|\n",
      "|         null|             Finance|\n",
      "|          110|Research and Deve...|\n",
      "+-------------+--------------------+\n",
      "\n",
      "root\n",
      " |-- department_id: integer (nullable = true)\n",
      " |-- department_name: string (nullable = true)\n",
      "\n"
     ]
    }
   ],
   "source": [
    "# Define the schema using StructType and StructField\n",
    "custom_department_schema= StructType([\n",
    "    StructField(\"department_id\", IntegerType(), True),\n",
    "    StructField(\"department_name\", StringType(), True)\n",
    "])\n",
    "\n",
    "# Define the  data as a list of tuples\n",
    "department_data = [\n",
    "    (101, \"HR\"),\n",
    "    (102, \"Engineering\"),\n",
    "    (103, \"Finance\"),\n",
    "    (104, \"Marketing\"),\n",
    "    (105, \"Operations\"),\n",
    "    (106, None),  # Use None for null values\n",
    "    (107, \"Operations\"),\n",
    "    (108, \"Production\"),\n",
    "    (None, \"Finance\"),  \n",
    "    (110, \"Research and Development\")\n",
    "]\n",
    "\n",
    "# Create a DataFrame for departments\n",
    "department_df= spark.createDataFrame(department_data, custom_department_schema)\n",
    "\n",
    "# Show the DataFrame\n",
    "department_df.show()\n",
    "department_df.printSchema()\n"
   ]
  },
  {
   "cell_type": "code",
   "execution_count": 86,
   "metadata": {},
   "outputs": [],
   "source": [
    "# Register the DataFrames as temporary SQL tables\n",
    "employee_df.createOrReplaceTempView(\"employees\")\n",
    "department_df.createOrReplaceTempView(\"departments\")"
   ]
  },
  {
   "attachments": {},
   "cell_type": "markdown",
   "metadata": {},
   "source": [
    "### Join Expressions\n",
    "\n",
    "Question: How can you combine the employees_df and departments_df DataFrames based on the common \"department_id\" column to get a combined DataFrame with employee names and their respective department names?"
   ]
  },
  {
   "cell_type": "markdown",
   "metadata": {},
   "source": []
  },
  {
   "cell_type": "code",
   "execution_count": 48,
   "metadata": {},
   "outputs": [
    {
     "name": "stdout",
     "output_type": "stream",
     "text": [
      "+-------------+-----------+-------------+--------------------+\n",
      "|department_id|employee_id|employee_name|     department_name|\n",
      "+-------------+-----------+-------------+--------------------+\n",
      "|          101|          1|  Pallavi mam|                  HR|\n",
      "|          101|          3|        Cathy|                  HR|\n",
      "|          102|          2|          Bob|         Engineering|\n",
      "|          103|          4|        David|             Finance|\n",
      "|          104|          5|    Amrit Sir|           Marketing|\n",
      "|          110|          8|        Frank|Research and Deve...|\n",
      "+-------------+-----------+-------------+--------------------+\n",
      "\n"
     ]
    }
   ],
   "source": [
    "# Perform an inner join between the employees_df and departments_df DataFrames based on the \"department_id\" column.\n",
    "combined_df= employee_df.join(department_df,\n",
    "                              on=\"department_id\",\n",
    "                              how=\"inner\")\n",
    "\n",
    "# Select and display specific columns\n",
    "combined_df.select(col(\"department_id\"), col(\"employee_id\"), col(\"employee_name\"), col(\"department_name\")).show()"
   ]
  },
  {
   "cell_type": "code",
   "execution_count": 93,
   "metadata": {},
   "outputs": [
    {
     "name": "stdout",
     "output_type": "stream",
     "text": [
      "+-------------+-----------+-------------+--------------------+\n",
      "|department_id|employee_id|employee_name|     department_name|\n",
      "+-------------+-----------+-------------+--------------------+\n",
      "|          101|          1|  Pallavi mam|                  HR|\n",
      "|          101|          3|        Cathy|                  HR|\n",
      "|          102|          2|          Bob|         Engineering|\n",
      "|          103|          4|        David|             Finance|\n",
      "|          104|          5|    Amrit Sir|           Marketing|\n",
      "|          110|          8|        Frank|Research and Deve...|\n",
      "+-------------+-----------+-------------+--------------------+\n",
      "\n"
     ]
    }
   ],
   "source": [
    "# Perforn innerjoin operation \n",
    "query = \"\"\"\n",
    "    SELECT e.department_id, e.employee_id, e.employee_name, d.department_name\n",
    "    FROM employees  e\n",
    "    INNER JOIN departments  d ON e.department_id = d.department_id\n",
    "\"\"\"\n",
    "\n",
    "# Execute the SQL query display result\n",
    "combined_df = spark.sql(query).show()\n"
   ]
  },
  {
   "attachments": {},
   "cell_type": "markdown",
   "metadata": {},
   "source": [
    "### Inner Joins\n",
    "\n",
    "Question: How can you retrieve employee names and their respective department names for employees belonging to the \"Engineering\" department?"
   ]
  },
  {
   "cell_type": "code",
   "execution_count": 92,
   "metadata": {},
   "outputs": [
    {
     "name": "stdout",
     "output_type": "stream",
     "text": [
      "+-------------+---------------+\n",
      "|employee_name|department_name|\n",
      "+-------------+---------------+\n",
      "|          Bob|    Engineering|\n",
      "+-------------+---------------+\n",
      "\n"
     ]
    }
   ],
   "source": [
    "# Perform an inner join to retrieve names and departments\n",
    "retrieve_name_department= employee_df.join(department_df, \n",
    "                                            on=\"department_id\", \n",
    "                                            how=\"inner\")\n",
    "\n",
    "# Display employees belonging to the \"Engineering\" department\n",
    "retrieve_name_department.filter(col('department_name')==\"Engineering\"\n",
    "                                ).select(\"employee_name\",\"department_name\"\n",
    "                                         ).show()"
   ]
  },
  {
   "cell_type": "code",
   "execution_count": 97,
   "metadata": {},
   "outputs": [
    {
     "name": "stdout",
     "output_type": "stream",
     "text": [
      "+-------------+---------------+\n",
      "|employee_name|department_name|\n",
      "+-------------+---------------+\n",
      "|          Bob|    Engineering|\n",
      "+-------------+---------------+\n",
      "\n"
     ]
    }
   ],
   "source": [
    "# Query to retrieve employee names and department names in the \"Engineering\" department\n",
    "query2 = \"\"\"\n",
    "    SELECT employee_name, department_name\n",
    "    FROM employees e\n",
    "    INNER JOIN departments d ON e.department_id = d.department_id\n",
    "    WHERE d.department_name = 'Engineering'\n",
    "\"\"\"\n",
    "\n",
    "# Execute the SQL query and store the result in a DataFrame\n",
    "engineering_employees = spark.sql(query2).show()\n"
   ]
  },
  {
   "attachments": {},
   "cell_type": "markdown",
   "metadata": {},
   "source": [
    "### Outer Joins\n",
    "\n",
    "Question: Retrieve a DataFrame that contains all employees along with their department names. If an employee doesn't have a department assigned, display \"No Department\"."
   ]
  },
  {
   "cell_type": "code",
   "execution_count": 46,
   "metadata": {},
   "outputs": [
    {
     "name": "stdout",
     "output_type": "stream",
     "text": [
      "+-------------+--------------------+\n",
      "|employee_name|     department_name|\n",
      "+-------------+--------------------+\n",
      "|        Alice|       No Department|\n",
      "|          Eva|       No Department|\n",
      "|        Henry|       No Department|\n",
      "|No Department|             Finance|\n",
      "|  Pallavi mam|                  HR|\n",
      "|        Cathy|                  HR|\n",
      "|          Bob|         Engineering|\n",
      "|        David|             Finance|\n",
      "|    Amrit Sir|           Marketing|\n",
      "|No Department|          Operations|\n",
      "|No Department|       No Department|\n",
      "|No Department|          Operations|\n",
      "|No Department|          Production|\n",
      "|        Grace|       No Department|\n",
      "|        Frank|Research and Deve...|\n",
      "+-------------+--------------------+\n",
      "\n"
     ]
    }
   ],
   "source": [
    "#Perform an outer join to retrieve all employees and departments,\n",
    "# and fill missing department values with \"No Department\"\n",
    "retrieve_all_employee= employee_df.join(department_df, \n",
    "                                        on=\"department_id\", \n",
    "                                        how=\"outer\").na.fill(\"No Department\")\n",
    "\n",
    "# Select and display employee names and department names\n",
    "retrieve_all_employee.select(col(\"employee_name\"), col(\"department_name\")).show()"
   ]
  },
  {
   "cell_type": "code",
   "execution_count": 100,
   "metadata": {},
   "outputs": [
    {
     "name": "stdout",
     "output_type": "stream",
     "text": [
      "+-------------+--------------------+\n",
      "|employee_name|     department_name|\n",
      "+-------------+--------------------+\n",
      "|        Alice|       No Department|\n",
      "|          Eva|       No Department|\n",
      "|        Henry|       No Department|\n",
      "|         null|             Finance|\n",
      "|  Pallavi mam|                  HR|\n",
      "|        Cathy|                  HR|\n",
      "|          Bob|         Engineering|\n",
      "|        David|             Finance|\n",
      "|    Amrit Sir|           Marketing|\n",
      "|         null|          Operations|\n",
      "|         null|       No Department|\n",
      "|         null|          Operations|\n",
      "|         null|          Production|\n",
      "|        Grace|       No Department|\n",
      "|        Frank|Research and Deve...|\n",
      "+-------------+--------------------+\n",
      "\n"
     ]
    }
   ],
   "source": [
    "# Query to retrieve all employees and departments,\n",
    "# and fill missing department values with \"No Department\"\n",
    "query3 = \"\"\"\n",
    "    SELECT e.employee_name, COALESCE(d.department_name, 'No Department') AS department_name\n",
    "    FROM employees e\n",
    "    FULL OUTER JOIN departments d ON e.department_id = d.department_id\n",
    "\"\"\"\n",
    "\n",
    "# Execute the SQL query and store the result in a DataFrame\n",
    "all_employees = spark.sql(query3).show()"
   ]
  },
  {
   "attachments": {},
   "cell_type": "markdown",
   "metadata": {},
   "source": [
    "### Left Outer Joins\n",
    "\n",
    "Question: List all employees along with their department names. If an employee doesn't have a department assigned, display \"No Department\"."
   ]
  },
  {
   "cell_type": "code",
   "execution_count": 101,
   "metadata": {},
   "outputs": [
    {
     "name": "stdout",
     "output_type": "stream",
     "text": [
      "+-------------+--------------------+\n",
      "|employee_name|     department_name|\n",
      "+-------------+--------------------+\n",
      "|  Pallavi mam|                  HR|\n",
      "|          Bob|         Engineering|\n",
      "|        Cathy|                  HR|\n",
      "|        David|             Finance|\n",
      "|        Alice|       No Department|\n",
      "|    Amrit Sir|           Marketing|\n",
      "|          Eva|       No Department|\n",
      "|        Henry|       No Department|\n",
      "|        Grace|       No Department|\n",
      "|        Frank|Research and Deve...|\n",
      "+-------------+--------------------+\n",
      "\n"
     ]
    }
   ],
   "source": [
    "# Perform a left outer join to retrieve all employees and their departments,\n",
    "# and fill missing department values with \"No Department\"\n",
    "all_employee= employee_df.join(department_df,\n",
    "                               on=\"department_id\",\n",
    "                               how=\"left_outer\")\n",
    "\n",
    "# Select and display employee names and department names, filling missing department values\n",
    "all_employee.select(\n",
    "    col(\"employee_name\"),\n",
    "    coalesce(col(\"department_name\"), lit(\"No Department\")).alias(\"department_name\")\n",
    ").show()"
   ]
  },
  {
   "cell_type": "code",
   "execution_count": 105,
   "metadata": {},
   "outputs": [
    {
     "name": "stdout",
     "output_type": "stream",
     "text": [
      "+-------------+--------------------+\n",
      "|employee_name|     department_name|\n",
      "+-------------+--------------------+\n",
      "|  Pallavi mam|                  HR|\n",
      "|          Bob|         Engineering|\n",
      "|        Cathy|                  HR|\n",
      "|        David|             Finance|\n",
      "|        Alice|       No Department|\n",
      "|    Amrit Sir|           Marketing|\n",
      "|          Eva|       No Department|\n",
      "|        Henry|       No Department|\n",
      "|        Grace|       No Department|\n",
      "|        Frank|Research and Deve...|\n",
      "+-------------+--------------------+\n",
      "\n"
     ]
    }
   ],
   "source": [
    "# Write a Spark SQL query to retrieve all employees and their departments,\n",
    "# and fill missing department values with \"No Department\"\n",
    "query4 = \"\"\"\n",
    "    SELECT e.employee_name, COALESCE(d.department_name, 'No Department') AS department_name\n",
    "    FROM employees e\n",
    "    LEFT JOIN departments d ON e.department_id = d.department_id\n",
    "\"\"\"\n",
    "\n",
    "# Execute the SQL query and display the result \n",
    "all_employees = spark.sql(query4).show()"
   ]
  },
  {
   "attachments": {},
   "cell_type": "markdown",
   "metadata": {},
   "source": [
    "### Right Outer Joins\n",
    "\n",
    "Question: Display a list of departments along with employee names. If a department has no employees, display \"No Employees\".\n",
    "\n"
   ]
  },
  {
   "cell_type": "code",
   "execution_count": 106,
   "metadata": {},
   "outputs": [
    {
     "name": "stdout",
     "output_type": "stream",
     "text": [
      "+--------------------+-------------+\n",
      "|     department_name|employee_name|\n",
      "+--------------------+-------------+\n",
      "|                  HR|        Cathy|\n",
      "|                  HR|  Pallavi mam|\n",
      "|         Engineering|          Bob|\n",
      "|             Finance|        David|\n",
      "|           Marketing|    Amrit Sir|\n",
      "|          Operations|  No Employee|\n",
      "|                null|  No Employee|\n",
      "|          Production|  No Employee|\n",
      "|             Finance|  No Employee|\n",
      "|          Operations|  No Employee|\n",
      "|Research and Deve...|        Frank|\n",
      "+--------------------+-------------+\n",
      "\n"
     ]
    }
   ],
   "source": [
    "# Perform a right outer join to retrieve all departments and their employees\n",
    "all_department= employee_df.join(department_df,\n",
    "                               on=\"department_id\",\n",
    "                               how=\"right_outer\")\n",
    "\n",
    "# Select and display department names and employee names, filling missing employee names\n",
    "all_department.select(\n",
    "    col(\"department_name\"), \n",
    "    coalesce(col(\"employee_name\"), \n",
    "             lit(\"No Employee\")\n",
    "             ).alias(\"employee_name\")\n",
    "    ).show()"
   ]
  },
  {
   "cell_type": "code",
   "execution_count": 108,
   "metadata": {},
   "outputs": [
    {
     "name": "stdout",
     "output_type": "stream",
     "text": [
      "+--------------------+-------------+\n",
      "|     department_name|employee_name|\n",
      "+--------------------+-------------+\n",
      "|                  HR|        Cathy|\n",
      "|                  HR|  Pallavi mam|\n",
      "|         Engineering|          Bob|\n",
      "|             Finance|        David|\n",
      "|           Marketing|    Amrit Sir|\n",
      "|          Operations|  No Employee|\n",
      "|                null|  No Employee|\n",
      "|          Production|  No Employee|\n",
      "|             Finance|  No Employee|\n",
      "|          Operations|  No Employee|\n",
      "|Research and Deve...|        Frank|\n",
      "+--------------------+-------------+\n",
      "\n"
     ]
    }
   ],
   "source": [
    "# Query to retrieve all departments and their employees\n",
    "query5 = \"\"\"\n",
    "    SELECT d.department_name, COALESCE(e.employee_name, 'No Employee') AS employee_name\n",
    "    FROM departments d\n",
    "    LEFT JOIN employees e ON d.department_id = e.department_id\n",
    "\"\"\"\n",
    "\n",
    "# Execute the SQL query and display the result in a DataFrame\n",
    "all_departments = spark.sql(query5).show()"
   ]
  },
  {
   "attachments": {},
   "cell_type": "markdown",
   "metadata": {},
   "source": [
    "### Left Semi Joins\n",
    "\n",
    "Question: Retrieve a DataFrame that includes employee names for departments that have employees.\n",
    "\n"
   ]
  },
  {
   "cell_type": "code",
   "execution_count": 73,
   "metadata": {},
   "outputs": [
    {
     "name": "stdout",
     "output_type": "stream",
     "text": [
      "+-------------+\n",
      "|employee_name|\n",
      "+-------------+\n",
      "|  Pallavi mam|\n",
      "|        Cathy|\n",
      "|          Bob|\n",
      "|        David|\n",
      "|    Amrit Sir|\n",
      "|        Frank|\n",
      "+-------------+\n",
      "\n"
     ]
    }
   ],
   "source": [
    "# Perform a left semi-join to retrieve employees who have a department\n",
    "employee_having_department= employee_df.join(department_df,\n",
    "                                             on=\"department_id\",\n",
    "                                             how=\"left_semi\")\n",
    "\n",
    "# Select and display employee names\n",
    "employee_having_department.select(col(\"employee_name\")).show()"
   ]
  },
  {
   "cell_type": "code",
   "execution_count": 111,
   "metadata": {},
   "outputs": [
    {
     "name": "stdout",
     "output_type": "stream",
     "text": [
      "+-------------+\n",
      "|employee_name|\n",
      "+-------------+\n",
      "|  Pallavi mam|\n",
      "|        Cathy|\n",
      "|          Bob|\n",
      "|        David|\n",
      "|    Amrit Sir|\n",
      "|        Frank|\n",
      "+-------------+\n",
      "\n"
     ]
    }
   ],
   "source": [
    "#  Query to retrieve employees who have a department\n",
    "query5 = \"\"\"\n",
    "    SELECT e.employee_name\n",
    "    FROM employees e\n",
    "    WHERE EXISTS (\n",
    "        SELECT 1\n",
    "        FROM departments d\n",
    "        WHERE e.department_id = d.department_id\n",
    "    )\n",
    "\"\"\"\n",
    "\n",
    "# Execute the SQL query and dispaly the result in a DataFrame\n",
    "employees_with_departments = spark.sql(query5).show()\n"
   ]
  },
  {
   "attachments": {},
   "cell_type": "markdown",
   "metadata": {},
   "source": [
    "### Left Anti Joins\n",
    "\n",
    "Question: Find the employees who don't belong to any department."
   ]
  },
  {
   "cell_type": "code",
   "execution_count": 110,
   "metadata": {},
   "outputs": [
    {
     "name": "stdout",
     "output_type": "stream",
     "text": [
      "+-------------+\n",
      "|employee_name|\n",
      "+-------------+\n",
      "|        Alice|\n",
      "|          Eva|\n",
      "|        Henry|\n",
      "|        Grace|\n",
      "+-------------+\n",
      "\n"
     ]
    }
   ],
   "source": [
    "# Perform a left anti-join to retrieve employees who do not have a department\n",
    "employee_without_department= employee_df.join(department_df,\n",
    "                                             on=\"department_id\",\n",
    "                                             how=\"left_anti\")\n",
    "\n",
    "# Select and display employee names not belonging to any deppartment\n",
    "employee_without_department.select(col(\"employee_name\")).show()"
   ]
  },
  {
   "cell_type": "code",
   "execution_count": 114,
   "metadata": {},
   "outputs": [
    {
     "name": "stdout",
     "output_type": "stream",
     "text": [
      "+-------------+\n",
      "|employee_name|\n",
      "+-------------+\n",
      "|        Alice|\n",
      "|          Eva|\n",
      "|        Henry|\n",
      "|        Grace|\n",
      "+-------------+\n",
      "\n"
     ]
    }
   ],
   "source": [
    "# Query to retrieve employees who do not have a department\n",
    "query6 = \"\"\"\n",
    "    SELECT e.employee_name\n",
    "    FROM employees e\n",
    "    WHERE NOT EXISTS (\n",
    "        SELECT 1\n",
    "        FROM departments d\n",
    "        WHERE e.department_id = d.department_id\n",
    "    )\n",
    "\"\"\"\n",
    "\n",
    "# Execute the SQL query and DISPLAY the result in a DataFrame\n",
    "employees_without_department = spark.sql(query6).show()"
   ]
  },
  {
   "attachments": {},
   "cell_type": "markdown",
   "metadata": {},
   "source": [
    "### Cross (Cartesian) Joins\n",
    "\n",
    "Question: Create a DataFrame that contains all possible combinations of employees and departments."
   ]
  },
  {
   "cell_type": "code",
   "execution_count": 115,
   "metadata": {},
   "outputs": [
    {
     "name": "stderr",
     "output_type": "stream",
     "text": [
      "[Stage 253:===============================>                        (9 + 4) / 16]\r"
     ]
    },
    {
     "name": "stdout",
     "output_type": "stream",
     "text": [
      "+-----------+-------------+-------------+-------------+--------------------+\n",
      "|employee_id|employee_name|department_id|department_id|     department_name|\n",
      "+-----------+-------------+-------------+-------------+--------------------+\n",
      "|          1|  Pallavi mam|          101|          101|                  HR|\n",
      "|          1|  Pallavi mam|          101|          103|             Finance|\n",
      "|          1|  Pallavi mam|          101|          107|          Operations|\n",
      "|          1|  Pallavi mam|          101|          104|           Marketing|\n",
      "|          1|  Pallavi mam|          101|          105|          Operations|\n",
      "|          1|  Pallavi mam|          101|          108|          Production|\n",
      "|          1|  Pallavi mam|          101|          102|         Engineering|\n",
      "|          1|  Pallavi mam|          101|         null|             Finance|\n",
      "|          1|  Pallavi mam|          101|          106|                null|\n",
      "|          1|  Pallavi mam|          101|          110|Research and Deve...|\n",
      "|          2|          Bob|          102|          103|             Finance|\n",
      "|          2|          Bob|          102|          101|                  HR|\n",
      "|          2|          Bob|          102|          104|           Marketing|\n",
      "|          2|          Bob|          102|          107|          Operations|\n",
      "|          2|          Bob|          102|          105|          Operations|\n",
      "|          2|          Bob|          102|          108|          Production|\n",
      "|          2|          Bob|          102|          102|         Engineering|\n",
      "|          2|          Bob|          102|         null|             Finance|\n",
      "|          2|          Bob|          102|          106|                null|\n",
      "|          2|          Bob|          102|          110|Research and Deve...|\n",
      "+-----------+-------------+-------------+-------------+--------------------+\n",
      "only showing top 20 rows\n",
      "\n"
     ]
    },
    {
     "name": "stderr",
     "output_type": "stream",
     "text": [
      "                                                                                \r"
     ]
    }
   ],
   "source": [
    "# Perform a cross-join to create all possible combinations of employees and departments\n",
    "all_possible_combo= employee_df.crossJoin(department_df).orderBy(\"employee_id\")\n",
    "\n",
    "# Show the result DataFrame\n",
    "all_possible_combo.show()"
   ]
  },
  {
   "cell_type": "code",
   "execution_count": 117,
   "metadata": {},
   "outputs": [
    {
     "name": "stderr",
     "output_type": "stream",
     "text": [
      "[Stage 255:============================>                           (8 + 4) / 16]\r"
     ]
    },
    {
     "name": "stdout",
     "output_type": "stream",
     "text": [
      "+-----------+-------------+-------------+-------------+--------------------+\n",
      "|employee_id|employee_name|department_id|department_id|     department_name|\n",
      "+-----------+-------------+-------------+-------------+--------------------+\n",
      "|          1|  Pallavi mam|          101|          107|          Operations|\n",
      "|          1|  Pallavi mam|          101|          103|             Finance|\n",
      "|          1|  Pallavi mam|          101|          101|                  HR|\n",
      "|          1|  Pallavi mam|          101|          104|           Marketing|\n",
      "|          1|  Pallavi mam|          101|          105|          Operations|\n",
      "|          1|  Pallavi mam|          101|          102|         Engineering|\n",
      "|          1|  Pallavi mam|          101|          108|          Production|\n",
      "|          1|  Pallavi mam|          101|          106|                null|\n",
      "|          1|  Pallavi mam|          101|         null|             Finance|\n",
      "|          1|  Pallavi mam|          101|          110|Research and Deve...|\n",
      "|          2|          Bob|          102|          103|             Finance|\n",
      "|          2|          Bob|          102|          101|                  HR|\n",
      "|          2|          Bob|          102|          104|           Marketing|\n",
      "|          2|          Bob|          102|          105|          Operations|\n",
      "|          2|          Bob|          102|          102|         Engineering|\n",
      "|          2|          Bob|          102|          107|          Operations|\n",
      "|          2|          Bob|          102|          106|                null|\n",
      "|          2|          Bob|          102|          108|          Production|\n",
      "|          2|          Bob|          102|         null|             Finance|\n",
      "|          2|          Bob|          102|          110|Research and Deve...|\n",
      "+-----------+-------------+-------------+-------------+--------------------+\n",
      "only showing top 20 rows\n",
      "\n"
     ]
    },
    {
     "name": "stderr",
     "output_type": "stream",
     "text": [
      "                                                                                \r"
     ]
    }
   ],
   "source": [
    "# Query to perform a cross-join and order the result by \"employee_id\"\n",
    "query7 = \"\"\"\n",
    "    SELECT *\n",
    "    FROM employees\n",
    "    CROSS JOIN departments\n",
    "    ORDER BY employees.employee_id\n",
    "\"\"\"\n",
    "\n",
    "# Execute the SQL query and dispaly the result in a DataFrame\n",
    "all_possible_combinations = spark.sql(query7).show()"
   ]
  }
 ],
 "metadata": {
  "kernelspec": {
   "display_name": "venv2",
   "language": "python",
   "name": "venv2"
  },
  "language_info": {
   "codemirror_mode": {
    "name": "ipython",
    "version": 3
   },
   "file_extension": ".py",
   "mimetype": "text/x-python",
   "name": "python",
   "nbconvert_exporter": "python",
   "pygments_lexer": "ipython3",
   "version": "3.10.12"
  },
  "orig_nbformat": 4
 },
 "nbformat": 4,
 "nbformat_minor": 2
}
