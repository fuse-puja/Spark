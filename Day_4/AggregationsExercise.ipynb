{
 "cells": [
  {
   "attachments": {},
   "cell_type": "markdown",
   "metadata": {},
   "source": [
    "##  Aggregations\n"
   ]
  },
  {
   "attachments": {},
   "cell_type": "markdown",
   "metadata": {},
   "source": [
    "### Step 1: Initialize PySpark Session\n"
   ]
  },
  {
   "cell_type": "code",
   "execution_count": 24,
   "metadata": {},
   "outputs": [],
   "source": [
    "from pyspark.sql import SparkSession\n",
    "\n",
    "# Create a Spark session\n",
    "spark = SparkSession.builder.appName(\"day3\").getOrCreate()\n"
   ]
  },
  {
   "attachments": {},
   "cell_type": "markdown",
   "metadata": {},
   "source": [
    "### Step 2: Load the Dataset\n"
   ]
  },
  {
   "cell_type": "code",
   "execution_count": 25,
   "metadata": {},
   "outputs": [],
   "source": [
    "# Load the Chipotle dataset into a Spark DataFrame\n",
    "data_path = \"../data/US_Crime_Rates_1960_2014.csv\"  # Replace with the actual path\n",
    "US_Crime_Rates_1960_2014_df = spark.read.csv(data_path, header=True, inferSchema=True)\n",
    "\n",
    "# Load the Chipotle dataset into a Spark DataFrame\n",
    "data_path = \"../data/titanic.csv\"  # Replace with the actual path\n",
    "titanic_df = spark.read.csv(data_path, header=True, inferSchema=True)\n"
   ]
  },
  {
   "cell_type": "code",
   "execution_count": 26,
   "metadata": {},
   "outputs": [
    {
     "name": "stdout",
     "output_type": "stream",
     "text": [
      "root\n",
      " |-- Year: integer (nullable = true)\n",
      " |-- Population: integer (nullable = true)\n",
      " |-- Total: integer (nullable = true)\n",
      " |-- Violent: integer (nullable = true)\n",
      " |-- Property: integer (nullable = true)\n",
      " |-- Murder: integer (nullable = true)\n",
      " |-- Forcible_Rape: integer (nullable = true)\n",
      " |-- Robbery: integer (nullable = true)\n",
      " |-- Aggravated_assault: integer (nullable = true)\n",
      " |-- Burglary: integer (nullable = true)\n",
      " |-- Larceny_Theft: integer (nullable = true)\n",
      " |-- Vehicle_Theft: integer (nullable = true)\n",
      "\n"
     ]
    }
   ],
   "source": [
    "US_Crime_Rates_1960_2014_df.printSchema()"
   ]
  },
  {
   "cell_type": "code",
   "execution_count": 27,
   "metadata": {},
   "outputs": [
    {
     "name": "stdout",
     "output_type": "stream",
     "text": [
      "+----+----------+--------+-------+--------+------+-------------+-------+------------------+--------+-------------+-------------+\n",
      "|Year|Population|   Total|Violent|Property|Murder|Forcible_Rape|Robbery|Aggravated_assault|Burglary|Larceny_Theft|Vehicle_Theft|\n",
      "+----+----------+--------+-------+--------+------+-------------+-------+------------------+--------+-------------+-------------+\n",
      "|1960| 179323175| 3384200| 288460| 3095700|  9110|        17190| 107840|            154320|  912100|      1855400|       328200|\n",
      "|1961| 182992000| 3488000| 289390| 3198600|  8740|        17220| 106670|            156760|  949600|      1913000|       336000|\n",
      "|1962| 185771000| 3752200| 301510| 3450700|  8530|        17550| 110860|            164570|  994300|      2089600|       366800|\n",
      "|1963| 188483000| 4109500| 316970| 3792500|  8640|        17650| 116470|            174210| 1086400|      2297800|       408300|\n",
      "|1964| 191141000| 4564600| 364220| 4200400|  9360|        21420| 130390|            203050| 1213200|      2514400|       472800|\n",
      "|1965| 193526000| 4739400| 387390| 4352000|  9960|        23410| 138690|            215330| 1282500|      2572600|       496900|\n",
      "|1966| 195576000| 5223500| 430180| 4793300| 11040|        25820| 157990|            235330| 1410100|      2822000|       561200|\n",
      "|1967| 197457000| 5903400| 499930| 5403500| 12240|        27620| 202910|            257160| 1632100|      3111600|       659800|\n",
      "|1968| 199399000| 6720200| 595010| 6125200| 13800|        31670| 262840|            286700| 1858900|      3482700|       783600|\n",
      "|1969| 201385000| 7410900| 661870| 6749000| 14760|        37170| 298850|            311090| 1981900|      3888600|       878500|\n",
      "|1970| 203235298| 8098000| 738820| 7359200| 16000|        37990| 349860|            334970| 2205000|      4225800|       928400|\n",
      "|1971| 206212000| 8588200| 816500| 7771700| 17780|        42260| 387700|            368760| 2399300|      4424200|       948200|\n",
      "|1972| 208230000| 8248800| 834900| 7413900| 18670|        46850| 376290|            393090| 2375500|      4151200|       887200|\n",
      "|1973| 209851000| 8718100| 875910| 7842200| 19640|        51400| 384220|            420650| 2565500|      4347900|       928800|\n",
      "|1974| 211392000|10253400| 974720| 9278700| 20710|        55400| 442400|            456210| 3039200|      5262500|       977100|\n",
      "|1975| 213124000|11292400|1039710|10252700| 20510|        56090| 470500|            492620| 3265300|      5977700|      1009600|\n",
      "|1976| 214659000|11349700|1004210|10345500| 18780|        57080| 427810|            500530| 3108700|      6270800|       966000|\n",
      "|1977| 216332000|10984500|1029580| 9955000| 19120|        63500| 412610|            534350| 3071500|      5905700|       977700|\n",
      "|1978| 218059000|11209000|1085550|10123400| 19560|        67610| 426930|            571460| 3128300|      5991000|      1004100|\n",
      "|1979| 220099000|12249500|1208030|11041500| 21460|        76390| 480700|            629480| 3327700|      6601000|      1112800|\n",
      "+----+----------+--------+-------+--------+------+-------------+-------+------------------+--------+-------------+-------------+\n",
      "only showing top 20 rows\n",
      "\n"
     ]
    }
   ],
   "source": [
    "US_Crime_Rates_1960_2014_df.show()"
   ]
  },
  {
   "cell_type": "code",
   "execution_count": 28,
   "metadata": {},
   "outputs": [],
   "source": [
    "US_Crime_Rates_1960_2014_df.createOrReplaceTempView(\"crime_rates\")"
   ]
  },
  {
   "attachments": {},
   "cell_type": "markdown",
   "metadata": {},
   "source": [
    "### count\n",
    "\n",
    "Question: How many records are there in the US_Crime_Rates_1960_2014_df DataFrame?"
   ]
  },
  {
   "cell_type": "code",
   "execution_count": 29,
   "metadata": {},
   "outputs": [
    {
     "name": "stdout",
     "output_type": "stream",
     "text": [
      "Number of records = 55\n"
     ]
    }
   ],
   "source": [
    "#pyspark\n",
    "\n",
    "row_count= US_Crime_Rates_1960_2014_df.count()\n",
    "print(\"Number of records =\", row_count)"
   ]
  },
  {
   "cell_type": "code",
   "execution_count": 30,
   "metadata": {},
   "outputs": [
    {
     "name": "stdout",
     "output_type": "stream",
     "text": [
      "Number of records: 55\n"
     ]
    }
   ],
   "source": [
    "#sql\n",
    "\n",
    "len1= spark.sql('''select count(*)\n",
    "               from crime_rates''')\n",
    "\n",
    "print(\"Number of records:\", len1.collect()[0][0])"
   ]
  },
  {
   "attachments": {},
   "cell_type": "markdown",
   "metadata": {},
   "source": [
    "### countDistinct\n",
    "Question: How many distinct years are present in the US_Crime_Rates_1960_2014_df DataFrame?\n",
    "Answer:"
   ]
  },
  {
   "cell_type": "code",
   "execution_count": 31,
   "metadata": {},
   "outputs": [
    {
     "name": "stdout",
     "output_type": "stream",
     "text": [
      "No. of distinct years=  55\n"
     ]
    }
   ],
   "source": [
    "#pyspark\n",
    "from pyspark.sql.functions import countDistinct\n",
    "\n",
    "#distinct_years= US_Crime_Rates_1960_2014_df.distinct().count()\n",
    "distinct_years= US_Crime_Rates_1960_2014_df.select(countDistinct(\"Year\"))\n",
    "print(\"No. of distinct years= \", distinct_years.collect()[0][0])"
   ]
  },
  {
   "cell_type": "code",
   "execution_count": 32,
   "metadata": {},
   "outputs": [
    {
     "name": "stdout",
     "output_type": "stream",
     "text": [
      "No. of distinct years =  55\n"
     ]
    }
   ],
   "source": [
    "#sql \n",
    "\n",
    "distinct_year_count= spark.sql('''select count(distinct year) \n",
    "from crime_rates''')\n",
    "\n",
    "print(\"No. of distinct years = \", distinct_year_count.collect()[0][0])"
   ]
  },
  {
   "attachments": {},
   "cell_type": "markdown",
   "metadata": {},
   "source": [
    "### approx_count_distinct\n",
    "\n",
    "Question: Estimate the approximate number of distinct values in the \"Total\" column of the US_Crime_Rates_1960_2014_df DataFrame."
   ]
  },
  {
   "cell_type": "code",
   "execution_count": 33,
   "metadata": {},
   "outputs": [
    {
     "name": "stdout",
     "output_type": "stream",
     "text": [
      "Approximate distinct values in 'Total' column:  51\n"
     ]
    }
   ],
   "source": [
    "#pyspark\n",
    "from pyspark.sql.functions import approx_count_distinct\n",
    "\n",
    "total= US_Crime_Rates_1960_2014_df.select(approx_count_distinct(\"Total\",0.1))\n",
    "print(\"Approximate distinct values in 'Total' column: \",total.collect()[0][0])"
   ]
  },
  {
   "cell_type": "code",
   "execution_count": 34,
   "metadata": {},
   "outputs": [
    {
     "name": "stdout",
     "output_type": "stream",
     "text": [
      "Approximate distinct values in 'Total' column:  51\n"
     ]
    }
   ],
   "source": [
    "#sql\n",
    "\n",
    "total_dist_values= spark.sql('''select approx_count_distinct(Total,0.1) \n",
    "                             from crime_rates''')\n",
    "print(\"Approximate distinct values in 'Total' column: \",total_dist_values.collect()[0][0])"
   ]
  },
  {
   "attachments": {},
   "cell_type": "markdown",
   "metadata": {},
   "source": [
    "###  first and last\n",
    "\n",
    "Question: Find the first and last year in the US_Crime_Rates_1960_2014_df DataFrame."
   ]
  },
  {
   "cell_type": "code",
   "execution_count": 35,
   "metadata": {},
   "outputs": [
    {
     "name": "stdout",
     "output_type": "stream",
     "text": [
      "first year =  1960\n",
      "first year =  2014\n"
     ]
    }
   ],
   "source": [
    "#pyspark    \n",
    "\n",
    "from pyspark.sql.functions import first, last\n",
    "\n",
    "first_and_last_values= US_Crime_Rates_1960_2014_df.select(first(\"Year\"), last(\"Year\"))\n",
    "\n",
    "print(\"first year = \" ,first_and_last_values.collect()[0][0])\n",
    "print(\"first year = \" ,first_and_last_values.collect()[0][1])"
   ]
  },
  {
   "cell_type": "code",
   "execution_count": 36,
   "metadata": {},
   "outputs": [
    {
     "name": "stdout",
     "output_type": "stream",
     "text": [
      "first year =  1960\n",
      "first year =  2014\n"
     ]
    }
   ],
   "source": [
    "#sql\n",
    "\n",
    "f_and_l_values= spark.sql('''select first(Year), last(Year)\n",
    "                          from crime_rates''')\n",
    "\n",
    "print(\"first year = \" ,f_and_l_values.collect()[0][0])\n",
    "print(\"first year = \" ,f_and_l_values.collect()[0][1])"
   ]
  },
  {
   "attachments": {},
   "cell_type": "markdown",
   "metadata": {},
   "source": [
    "### min and max\n",
    "\n",
    "Question: Find the minimum and maximum population values in the US_Crime_Rates_1960_2014_df DataFrame."
   ]
  },
  {
   "cell_type": "code",
   "execution_count": 37,
   "metadata": {},
   "outputs": [
    {
     "name": "stdout",
     "output_type": "stream",
     "text": [
      "Minimun population =  179323175\n",
      "Maximun population =  318857056\n"
     ]
    }
   ],
   "source": [
    "#pyspark    \n",
    "\n",
    "from pyspark.sql.functions import min, max\n",
    "\n",
    "min_max = US_Crime_Rates_1960_2014_df.select(min(\"Population\"), max(\"Population\"))\n",
    "\n",
    "print(\"Minimun population = \",min_max.collect()[0][0])\n",
    "print(\"Maximun population = \", min_max.collect()[0][1])"
   ]
  },
  {
   "attachments": {},
   "cell_type": "markdown",
   "metadata": {},
   "source": [
    "### sumDistinct\n",
    "\n",
    "Question: Calculate the sum of distinct \"Property\" values for each year in the US_Crime_Rates_1960_2014_df DataFrame."
   ]
  },
  {
   "cell_type": "code",
   "execution_count": 38,
   "metadata": {},
   "outputs": [
    {
     "name": "stdout",
     "output_type": "stream",
     "text": [
      "+----+-------------------+\n",
      "|Year|SumDistinctProperty|\n",
      "+----+-------------------+\n",
      "|1990|           12655500|\n",
      "|1975|           10252700|\n",
      "|1977|            9955000|\n",
      "|2003|           10442862|\n",
      "|2007|            9843481|\n",
      "|1974|            9278700|\n",
      "|2006|            9983568|\n",
      "|1978|           10123400|\n",
      "|1961|            3198600|\n",
      "|2013|            8650761|\n",
      "|1988|           12356900|\n",
      "|1997|           11558175|\n",
      "|1994|           12131900|\n",
      "|1968|            6125200|\n",
      "|2014|            8277829|\n",
      "|1973|            7842200|\n",
      "|1979|           11041500|\n",
      "|1971|            7771700|\n",
      "|1966|            4793300|\n",
      "|2004|           10319386|\n",
      "+----+-------------------+\n",
      "only showing top 20 rows\n",
      "\n"
     ]
    }
   ],
   "source": [
    "#pyspark\n",
    "from pyspark.sql.functions import sum_distinct\n",
    "\n",
    "US_Crime_Rates_1960_2014_df.groupBy(\"Year\").agg(sum_distinct(\"Property\").alias(\"SumDistinctProperty\")).show()\n"
   ]
  },
  {
   "cell_type": "code",
   "execution_count": 39,
   "metadata": {},
   "outputs": [
    {
     "name": "stdout",
     "output_type": "stream",
     "text": [
      "+----+-------------------+\n",
      "|year|SumDistinctProperty|\n",
      "+----+-------------------+\n",
      "|1990|           12655500|\n",
      "|1975|           10252700|\n",
      "|1977|            9955000|\n",
      "|2003|           10442862|\n",
      "|2007|            9843481|\n",
      "|1974|            9278700|\n",
      "|2006|            9983568|\n",
      "|1978|           10123400|\n",
      "|1961|            3198600|\n",
      "|2013|            8650761|\n",
      "|1988|           12356900|\n",
      "|1997|           11558175|\n",
      "|1994|           12131900|\n",
      "|1968|            6125200|\n",
      "|2014|            8277829|\n",
      "|1973|            7842200|\n",
      "|1979|           11041500|\n",
      "|1971|            7771700|\n",
      "|1966|            4793300|\n",
      "|2004|           10319386|\n",
      "+----+-------------------+\n",
      "only showing top 20 rows\n",
      "\n"
     ]
    }
   ],
   "source": [
    "#sql\n",
    "\n",
    "sum_of_distinct_property = spark.sql('''select year,\n",
    "                            sum(distinct property) as SumDistinctProperty\n",
    "                            from crime_rates\n",
    "                            group by year''')\n",
    "\n",
    "sum_of_distinct_property.show()"
   ]
  },
  {
   "attachments": {},
   "cell_type": "markdown",
   "metadata": {},
   "source": [
    "### avg\n",
    "\n",
    "Question: Calculate the average \"Murder\" rate for the entire dataset in the US_Crime_Rates_1960_2014_df DataFrame.\n",
    "Answer:"
   ]
  },
  {
   "cell_type": "code",
   "execution_count": 40,
   "metadata": {},
   "outputs": [
    {
     "name": "stdout",
     "output_type": "stream",
     "text": [
      "Average murder rate:  17317.236363636363\n"
     ]
    }
   ],
   "source": [
    "#pyspark\n",
    "from pyspark.sql.functions import avg\n",
    "\n",
    "avg_murder= US_Crime_Rates_1960_2014_df.select(avg(\"Murder\"))\n",
    "\n",
    "print(\"Average murder rate: \", avg_murder.collect()[0][0])\n"
   ]
  },
  {
   "cell_type": "code",
   "execution_count": 41,
   "metadata": {},
   "outputs": [
    {
     "name": "stdout",
     "output_type": "stream",
     "text": [
      "Average murder rate:  17317.236363636363\n"
     ]
    }
   ],
   "source": [
    "#sql\n",
    "\n",
    "avg_murder_rate = spark.sql('''select avg(murder)\n",
    "                            from  crime_rates''') \n",
    "print(\"Average murder rate: \",avg_murder_rate.collect()[0][0])"
   ]
  },
  {
   "attachments": {},
   "cell_type": "markdown",
   "metadata": {},
   "source": [
    "### Aggregating to Complex Types\n",
    "\n",
    "Question: Calculate the total sum of \"Violent\" and \"Property\" crimes for each year in the US_Crime_Rates_1960_2014_df DataFrame. Store the results in a struct type column."
   ]
  },
  {
   "cell_type": "code",
   "execution_count": 42,
   "metadata": {},
   "outputs": [
    {
     "name": "stdout",
     "output_type": "stream",
     "text": [
      "+----+-------------------+\n",
      "|Year|         CrimeSums |\n",
      "+----+-------------------+\n",
      "|1990|{1820130, 12655500}|\n",
      "|1975|{1039710, 10252700}|\n",
      "|1977| {1029580, 9955000}|\n",
      "|2003|{1383676, 10442862}|\n",
      "|2007| {1408337, 9843481}|\n",
      "|1974|  {974720, 9278700}|\n",
      "|2006| {1418043, 9983568}|\n",
      "|1978|{1085550, 10123400}|\n",
      "|1961|  {289390, 3198600}|\n",
      "|2013| {1199684, 8650761}|\n",
      "|1988|{1566220, 12356900}|\n",
      "|1997|{1634770, 11558175}|\n",
      "|1994|{1857670, 12131900}|\n",
      "|1968|  {595010, 6125200}|\n",
      "|2014| {1197987, 8277829}|\n",
      "|1973|  {875910, 7842200}|\n",
      "|1979|{1208030, 11041500}|\n",
      "|1971|  {816500, 7771700}|\n",
      "|1966|  {430180, 4793300}|\n",
      "|2004|{1360088, 10319386}|\n",
      "+----+-------------------+\n",
      "only showing top 20 rows\n",
      "\n"
     ]
    }
   ],
   "source": [
    "#pyspark\n",
    "from pyspark.sql.functions import struct, col, sum \n",
    "\n",
    "total_sum= US_Crime_Rates_1960_2014_df.groupBy(\"Year\").agg(\n",
    "    struct(\n",
    "        sum(col(\"Violent\")).alias(\"TotalViolent\"),\n",
    "        sum(col(\"Property\")).alias(\"TotalProperty\")\n",
    "    ).alias(\"CrimeSums \")\n",
    ")\n",
    "total_sum.show()"
   ]
  },
  {
   "cell_type": "code",
   "execution_count": 43,
   "metadata": {},
   "outputs": [
    {
     "name": "stdout",
     "output_type": "stream",
     "text": [
      "+----+-------------------+\n",
      "|Year|           CrimeSum|\n",
      "+----+-------------------+\n",
      "|1960|  {288460, 3095700}|\n",
      "|1961|  {289390, 3198600}|\n",
      "|1962|  {301510, 3450700}|\n",
      "|1963|  {316970, 3792500}|\n",
      "|1964|  {364220, 4200400}|\n",
      "|1965|  {387390, 4352000}|\n",
      "|1966|  {430180, 4793300}|\n",
      "|1967|  {499930, 5403500}|\n",
      "|1968|  {595010, 6125200}|\n",
      "|1969|  {661870, 6749000}|\n",
      "|1970|  {738820, 7359200}|\n",
      "|1971|  {816500, 7771700}|\n",
      "|1972|  {834900, 7413900}|\n",
      "|1973|  {875910, 7842200}|\n",
      "|1974|  {974720, 9278700}|\n",
      "|1975|{1039710, 10252700}|\n",
      "|1976|{1004210, 10345500}|\n",
      "|1977| {1029580, 9955000}|\n",
      "|1978|{1085550, 10123400}|\n",
      "|1979|{1208030, 11041500}|\n",
      "+----+-------------------+\n",
      "only showing top 20 rows\n",
      "\n"
     ]
    }
   ],
   "source": [
    "#sql\n",
    "\n",
    "sum_total= spark.sql('''select Year,\n",
    "       struct(sum(Violent) AS TotalViolent, sum(Property) AS TotalProperty) as \n",
    "       CrimeSum\n",
    "from crime_rates\n",
    "group by Year\n",
    "order by year\n",
    "''')\n",
    "sum_total.show()"
   ]
  },
  {
   "attachments": {},
   "cell_type": "markdown",
   "metadata": {},
   "source": [
    "### Grouping\n",
    "\n",
    "Question: In the given US_Crime_Rates_1960_2014_df DataFrame, you are tasked with finding the average of all crimes combined for each year. Calculate the sum of all crime categories (Violent, Property, Murder, Forcible_Rape, Robbery, Aggravated_assault, Burglary, Larceny_Theft, Vehicle_Theft) for each year and then determine the average of these combined crime sums. Provide the result as the average of all crimes across the entire dataset."
   ]
  },
  {
   "cell_type": "code",
   "execution_count": 44,
   "metadata": {},
   "outputs": [
    {
     "ename": "AnalysisException",
     "evalue": "[UNRESOLVED_COLUMN.WITH_SUGGESTION] A column or function parameter with name `` cannot be resolved. Did you mean one of the following? [`Year`, `Total`, `Murder`, `Robbery`, `Violent`].;\n'Aggregate ['], [', avg(AVG_Crime#1823) AS avg(AVG_Crime)#1851]\n+- Project [Year#943, Population#944, Total#945, Violent#946, Property#947, Murder#948, Forcible_Rape#949, Robbery#950, Aggravated_assault#951, Burglary#952, Larceny_Theft#953, Vehicle_Theft#954, ((((((((violent#946 + property#947) + murder#948) + forcible_rape#949) + robbery#950) + Aggravated_assault#951) + Burglary#952) + Larceny_Theft#953) + Vehicle_Theft#954) AS AVG_Crime#1823]\n   +- Relation [Year#943,Population#944,Total#945,Violent#946,Property#947,Murder#948,Forcible_Rape#949,Robbery#950,Aggravated_assault#951,Burglary#952,Larceny_Theft#953,Vehicle_Theft#954] csv\n",
     "output_type": "error",
     "traceback": [
      "\u001b[0;31m---------------------------------------------------------------------------\u001b[0m",
      "\u001b[0;31mAnalysisException\u001b[0m                         Traceback (most recent call last)",
      "Cell \u001b[0;32mIn[44], line 7\u001b[0m\n\u001b[1;32m      1\u001b[0m total_sum_crime\u001b[39m=\u001b[39m US_Crime_Rates_1960_2014_df\u001b[39m.\u001b[39mwithColumn(\u001b[39m\"\u001b[39m\u001b[39mAVG_Crime\u001b[39m\u001b[39m\"\u001b[39m,\n\u001b[1;32m      2\u001b[0m                                                     col(\u001b[39m'\u001b[39m\u001b[39mviolent\u001b[39m\u001b[39m'\u001b[39m) \u001b[39m+\u001b[39m col(\u001b[39m'\u001b[39m\u001b[39mproperty\u001b[39m\u001b[39m'\u001b[39m) \u001b[39m+\u001b[39m col(\u001b[39m'\u001b[39m\u001b[39mmurder\u001b[39m\u001b[39m'\u001b[39m) \u001b[39m+\u001b[39m col(\u001b[39m'\u001b[39m\u001b[39mforcible_rape\u001b[39m\u001b[39m'\u001b[39m) \u001b[39m+\u001b[39m \n\u001b[1;32m      3\u001b[0m                                                     col(\u001b[39m'\u001b[39m\u001b[39mrobbery\u001b[39m\u001b[39m'\u001b[39m) \u001b[39m+\u001b[39m col(\u001b[39m'\u001b[39m\u001b[39mAggravated_assault\u001b[39m\u001b[39m'\u001b[39m) \u001b[39m+\u001b[39m col(\u001b[39m'\u001b[39m\u001b[39mBurglary\u001b[39m\u001b[39m'\u001b[39m)\u001b[39m+\u001b[39m col(\u001b[39m'\u001b[39m\u001b[39mLarceny_Theft\u001b[39m\u001b[39m'\u001b[39m)\n\u001b[1;32m      4\u001b[0m                                                     \u001b[39m+\u001b[39m col(\u001b[39m'\u001b[39m\u001b[39mVehicle_Theft\u001b[39m\u001b[39m'\u001b[39m))\u001b[39m.\u001b[39mgroupBy(\u001b[39m\"\u001b[39m\u001b[39m\"\u001b[39m)\n\u001b[1;32m      6\u001b[0m \u001b[39m#avaerage of calculated sum\u001b[39;00m\n\u001b[0;32m----> 7\u001b[0m avegare_crime \u001b[39m=\u001b[39m total_sum_crime\u001b[39m.\u001b[39;49magg(avg(\u001b[39m'\u001b[39;49m\u001b[39mAVG_Crime\u001b[39;49m\u001b[39m'\u001b[39;49m))\n\u001b[1;32m      8\u001b[0m \u001b[39mprint\u001b[39m(\u001b[39m\"\u001b[39m\u001b[39mAverage of all crime:\u001b[39m\u001b[39m\"\u001b[39m, avegare_crime\u001b[39m.\u001b[39mcollect()[\u001b[39m0\u001b[39m][\u001b[39m0\u001b[39m])\n\u001b[1;32m      9\u001b[0m total_sum_crime\u001b[39m.\u001b[39mselect(\u001b[39m'\u001b[39m\u001b[39mYear\u001b[39m\u001b[39m'\u001b[39m,\u001b[39m'\u001b[39m\u001b[39mAVG_Crime\u001b[39m\u001b[39m'\u001b[39m)\u001b[39m.\u001b[39mshow()\n",
      "File \u001b[0;32m~/.local/lib/python3.10/site-packages/pyspark/sql/group.py:175\u001b[0m, in \u001b[0;36mGroupedData.agg\u001b[0;34m(self, *exprs)\u001b[0m\n\u001b[1;32m    173\u001b[0m     \u001b[39massert\u001b[39;00m \u001b[39mall\u001b[39m(\u001b[39misinstance\u001b[39m(c, Column) \u001b[39mfor\u001b[39;00m c \u001b[39min\u001b[39;00m exprs), \u001b[39m\"\u001b[39m\u001b[39mall exprs should be Column\u001b[39m\u001b[39m\"\u001b[39m\n\u001b[1;32m    174\u001b[0m     exprs \u001b[39m=\u001b[39m cast(Tuple[Column, \u001b[39m.\u001b[39m\u001b[39m.\u001b[39m\u001b[39m.\u001b[39m], exprs)\n\u001b[0;32m--> 175\u001b[0m     jdf \u001b[39m=\u001b[39m \u001b[39mself\u001b[39;49m\u001b[39m.\u001b[39;49m_jgd\u001b[39m.\u001b[39;49magg(exprs[\u001b[39m0\u001b[39;49m]\u001b[39m.\u001b[39;49m_jc, _to_seq(\u001b[39mself\u001b[39;49m\u001b[39m.\u001b[39;49msession\u001b[39m.\u001b[39;49m_sc, [c\u001b[39m.\u001b[39;49m_jc \u001b[39mfor\u001b[39;49;00m c \u001b[39min\u001b[39;49;00m exprs[\u001b[39m1\u001b[39;49m:]]))\n\u001b[1;32m    176\u001b[0m \u001b[39mreturn\u001b[39;00m DataFrame(jdf, \u001b[39mself\u001b[39m\u001b[39m.\u001b[39msession)\n",
      "File \u001b[0;32m~/.local/lib/python3.10/site-packages/py4j/java_gateway.py:1322\u001b[0m, in \u001b[0;36mJavaMember.__call__\u001b[0;34m(self, *args)\u001b[0m\n\u001b[1;32m   1316\u001b[0m command \u001b[39m=\u001b[39m proto\u001b[39m.\u001b[39mCALL_COMMAND_NAME \u001b[39m+\u001b[39m\\\n\u001b[1;32m   1317\u001b[0m     \u001b[39mself\u001b[39m\u001b[39m.\u001b[39mcommand_header \u001b[39m+\u001b[39m\\\n\u001b[1;32m   1318\u001b[0m     args_command \u001b[39m+\u001b[39m\\\n\u001b[1;32m   1319\u001b[0m     proto\u001b[39m.\u001b[39mEND_COMMAND_PART\n\u001b[1;32m   1321\u001b[0m answer \u001b[39m=\u001b[39m \u001b[39mself\u001b[39m\u001b[39m.\u001b[39mgateway_client\u001b[39m.\u001b[39msend_command(command)\n\u001b[0;32m-> 1322\u001b[0m return_value \u001b[39m=\u001b[39m get_return_value(\n\u001b[1;32m   1323\u001b[0m     answer, \u001b[39mself\u001b[39;49m\u001b[39m.\u001b[39;49mgateway_client, \u001b[39mself\u001b[39;49m\u001b[39m.\u001b[39;49mtarget_id, \u001b[39mself\u001b[39;49m\u001b[39m.\u001b[39;49mname)\n\u001b[1;32m   1325\u001b[0m \u001b[39mfor\u001b[39;00m temp_arg \u001b[39min\u001b[39;00m temp_args:\n\u001b[1;32m   1326\u001b[0m     \u001b[39mif\u001b[39;00m \u001b[39mhasattr\u001b[39m(temp_arg, \u001b[39m\"\u001b[39m\u001b[39m_detach\u001b[39m\u001b[39m\"\u001b[39m):\n",
      "File \u001b[0;32m~/.local/lib/python3.10/site-packages/pyspark/errors/exceptions/captured.py:175\u001b[0m, in \u001b[0;36mcapture_sql_exception.<locals>.deco\u001b[0;34m(*a, **kw)\u001b[0m\n\u001b[1;32m    171\u001b[0m converted \u001b[39m=\u001b[39m convert_exception(e\u001b[39m.\u001b[39mjava_exception)\n\u001b[1;32m    172\u001b[0m \u001b[39mif\u001b[39;00m \u001b[39mnot\u001b[39;00m \u001b[39misinstance\u001b[39m(converted, UnknownException):\n\u001b[1;32m    173\u001b[0m     \u001b[39m# Hide where the exception came from that shows a non-Pythonic\u001b[39;00m\n\u001b[1;32m    174\u001b[0m     \u001b[39m# JVM exception message.\u001b[39;00m\n\u001b[0;32m--> 175\u001b[0m     \u001b[39mraise\u001b[39;00m converted \u001b[39mfrom\u001b[39;00m \u001b[39mNone\u001b[39;00m\n\u001b[1;32m    176\u001b[0m \u001b[39melse\u001b[39;00m:\n\u001b[1;32m    177\u001b[0m     \u001b[39mraise\u001b[39;00m\n",
      "\u001b[0;31mAnalysisException\u001b[0m: [UNRESOLVED_COLUMN.WITH_SUGGESTION] A column or function parameter with name `` cannot be resolved. Did you mean one of the following? [`Year`, `Total`, `Murder`, `Robbery`, `Violent`].;\n'Aggregate ['], [', avg(AVG_Crime#1823) AS avg(AVG_Crime)#1851]\n+- Project [Year#943, Population#944, Total#945, Violent#946, Property#947, Murder#948, Forcible_Rape#949, Robbery#950, Aggravated_assault#951, Burglary#952, Larceny_Theft#953, Vehicle_Theft#954, ((((((((violent#946 + property#947) + murder#948) + forcible_rape#949) + robbery#950) + Aggravated_assault#951) + Burglary#952) + Larceny_Theft#953) + Vehicle_Theft#954) AS AVG_Crime#1823]\n   +- Relation [Year#943,Population#944,Total#945,Violent#946,Property#947,Murder#948,Forcible_Rape#949,Robbery#950,Aggravated_assault#951,Burglary#952,Larceny_Theft#953,Vehicle_Theft#954] csv\n"
     ]
    }
   ],
   "source": [
    "total_sum_crime= US_Crime_Rates_1960_2014_df.withColumn(\"AVG_Crime\",\n",
    "                                                    col('violent') + col('property') + col('murder') + col('forcible_rape') + \n",
    "                                                    col('robbery') + col('Aggravated_assault') + col('Burglary')+ col('Larceny_Theft')\n",
    "                                                    + col('Vehicle_Theft'))\n",
    "\n",
    "#avaerage of calculated sum\n",
    "avegare_crime = total_sum_crime.agg(avg('AVG_Crime'))\n",
    "print(\"Average of all crime:\", avegare_crime.collect()[0][0])\n",
    "total_sum_crime.select('Year','AVG_Crime').show()\n"
   ]
  },
  {
   "cell_type": "code",
   "execution_count": null,
   "metadata": {},
   "outputs": [
    {
     "name": "stdout",
     "output_type": "stream",
     "text": [
      "Average of all crime: 21201546.145454545\n",
      "+----+-------------+\n",
      "|year|TotalCrimeSum|\n",
      "+----+-------------+\n",
      "|1960|      6768320|\n",
      "|1961|      6975980|\n",
      "|1962|      7504420|\n",
      "|1963|      8218940|\n",
      "|1964|      9129240|\n",
      "|1965|      9478780|\n",
      "|1966|     10446960|\n",
      "|1967|     11806860|\n",
      "|1968|     13440420|\n",
      "|1969|     14821740|\n",
      "|1970|     16196040|\n",
      "|1971|     17176400|\n",
      "|1972|     16497600|\n",
      "|1973|     17436220|\n",
      "|1974|     20506940|\n",
      "|1975|     22584730|\n",
      "|1976|     22699410|\n",
      "|1977|     21969060|\n",
      "|1978|     22417910|\n",
      "|1979|     24499060|\n",
      "+----+-------------+\n",
      "only showing top 20 rows\n",
      "\n"
     ]
    }
   ],
   "source": [
    "#sql\n",
    "\n",
    "total_crime_sum = spark.sql('''\n",
    "                      SELECT *,\n",
    "                            (Violent + Property + Murder + Forcible_rape + Robbery +\n",
    "                            Aggravated_assault + Burglary + Larceny_Theft + Vehicle_Theft) AS TotalCrimeSum\n",
    "                     FROM crime_rates\n",
    "                    ''')\n",
    "\n",
    "\n",
    "average_crime = total_crime_sum.agg(avg('TotalCrimeSum'))\n",
    "print(\"Average of all crime:\", avegare_crime.collect()[0][0])\n",
    "total_crime_sum.select('year','TotalCrimeSum').show()"
   ]
  },
  {
   "attachments": {},
   "cell_type": "markdown",
   "metadata": {},
   "source": [
    "### Window Functions\n",
    "\n",
    "Question: Calculate the cumulative sum of \"Property\" values over the years using a window function in the US_Crime_Rates_1960_2014_df DataFrame."
   ]
  },
  {
   "cell_type": "code",
   "execution_count": null,
   "metadata": {},
   "outputs": [
    {
     "name": "stdout",
     "output_type": "stream",
     "text": [
      "+----+----------+--------+-------+--------+------+-------------+-------+------------------+--------+-------------+-------------+---------------------+\n",
      "|Year|Population|   Total|Violent|Property|Murder|Forcible_Rape|Robbery|Aggravated_assault|Burglary|Larceny_Theft|Vehicle_Theft|CumulativePropertySum|\n",
      "+----+----------+--------+-------+--------+------+-------------+-------+------------------+--------+-------------+-------------+---------------------+\n",
      "|1960| 179323175| 3384200| 288460| 3095700|  9110|        17190| 107840|            154320|  912100|      1855400|       328200|              3095700|\n",
      "|1961| 182992000| 3488000| 289390| 3198600|  8740|        17220| 106670|            156760|  949600|      1913000|       336000|              3198600|\n",
      "|1962| 185771000| 3752200| 301510| 3450700|  8530|        17550| 110860|            164570|  994300|      2089600|       366800|              3450700|\n",
      "|1963| 188483000| 4109500| 316970| 3792500|  8640|        17650| 116470|            174210| 1086400|      2297800|       408300|              3792500|\n",
      "|1964| 191141000| 4564600| 364220| 4200400|  9360|        21420| 130390|            203050| 1213200|      2514400|       472800|              4200400|\n",
      "|1965| 193526000| 4739400| 387390| 4352000|  9960|        23410| 138690|            215330| 1282500|      2572600|       496900|              4352000|\n",
      "|1966| 195576000| 5223500| 430180| 4793300| 11040|        25820| 157990|            235330| 1410100|      2822000|       561200|              4793300|\n",
      "|1967| 197457000| 5903400| 499930| 5403500| 12240|        27620| 202910|            257160| 1632100|      3111600|       659800|              5403500|\n",
      "|1968| 199399000| 6720200| 595010| 6125200| 13800|        31670| 262840|            286700| 1858900|      3482700|       783600|              6125200|\n",
      "|1969| 201385000| 7410900| 661870| 6749000| 14760|        37170| 298850|            311090| 1981900|      3888600|       878500|              6749000|\n",
      "|1970| 203235298| 8098000| 738820| 7359200| 16000|        37990| 349860|            334970| 2205000|      4225800|       928400|              7359200|\n",
      "|1971| 206212000| 8588200| 816500| 7771700| 17780|        42260| 387700|            368760| 2399300|      4424200|       948200|              7771700|\n",
      "|1972| 208230000| 8248800| 834900| 7413900| 18670|        46850| 376290|            393090| 2375500|      4151200|       887200|              7413900|\n",
      "|1973| 209851000| 8718100| 875910| 7842200| 19640|        51400| 384220|            420650| 2565500|      4347900|       928800|              7842200|\n",
      "|1974| 211392000|10253400| 974720| 9278700| 20710|        55400| 442400|            456210| 3039200|      5262500|       977100|              9278700|\n",
      "|1975| 213124000|11292400|1039710|10252700| 20510|        56090| 470500|            492620| 3265300|      5977700|      1009600|             10252700|\n",
      "|1976| 214659000|11349700|1004210|10345500| 18780|        57080| 427810|            500530| 3108700|      6270800|       966000|             10345500|\n",
      "|1977| 216332000|10984500|1029580| 9955000| 19120|        63500| 412610|            534350| 3071500|      5905700|       977700|              9955000|\n",
      "|1978| 218059000|11209000|1085550|10123400| 19560|        67610| 426930|            571460| 3128300|      5991000|      1004100|             10123400|\n",
      "|1979| 220099000|12249500|1208030|11041500| 21460|        76390| 480700|            629480| 3327700|      6601000|      1112800|             11041500|\n",
      "+----+----------+--------+-------+--------+------+-------------+-------+------------------+--------+-------------+-------------+---------------------+\n",
      "only showing top 20 rows\n",
      "\n"
     ]
    }
   ],
   "source": [
    "#pyspark\n",
    "from pyspark.sql.window import Window\n",
    "\n",
    "window_spec = Window.partitionBy(\"Year\").rowsBetween(Window.unboundedPreceding, Window.currentRow)\n",
    "\n",
    "US_Crime_Rates_1960_2014_df_window = US_Crime_Rates_1960_2014_df.withColumn(\n",
    "    \"CumulativePropertySum\", sum(col(\"Property\")).over(window_spec)\n",
    ")\n",
    "\n",
    "US_Crime_Rates_1960_2014_df_window.show()"
   ]
  },
  {
   "cell_type": "code",
   "execution_count": null,
   "metadata": {},
   "outputs": [
    {
     "name": "stdout",
     "output_type": "stream",
     "text": [
      "+----+----------+--------+-------+--------+------+-------------+-------+------------------+--------+-------------+-------------+---------------------+\n",
      "|Year|Population|   Total|Violent|Property|Murder|Forcible_Rape|Robbery|Aggravated_assault|Burglary|Larceny_Theft|Vehicle_Theft|CumulativePropertySum|\n",
      "+----+----------+--------+-------+--------+------+-------------+-------+------------------+--------+-------------+-------------+---------------------+\n",
      "|1960| 179323175| 3384200| 288460| 3095700|  9110|        17190| 107840|            154320|  912100|      1855400|       328200|              3095700|\n",
      "|1961| 182992000| 3488000| 289390| 3198600|  8740|        17220| 106670|            156760|  949600|      1913000|       336000|              6294300|\n",
      "|1962| 185771000| 3752200| 301510| 3450700|  8530|        17550| 110860|            164570|  994300|      2089600|       366800|              9745000|\n",
      "|1963| 188483000| 4109500| 316970| 3792500|  8640|        17650| 116470|            174210| 1086400|      2297800|       408300|             13537500|\n",
      "|1964| 191141000| 4564600| 364220| 4200400|  9360|        21420| 130390|            203050| 1213200|      2514400|       472800|             17737900|\n",
      "|1965| 193526000| 4739400| 387390| 4352000|  9960|        23410| 138690|            215330| 1282500|      2572600|       496900|             22089900|\n",
      "|1966| 195576000| 5223500| 430180| 4793300| 11040|        25820| 157990|            235330| 1410100|      2822000|       561200|             26883200|\n",
      "|1967| 197457000| 5903400| 499930| 5403500| 12240|        27620| 202910|            257160| 1632100|      3111600|       659800|             32286700|\n",
      "|1968| 199399000| 6720200| 595010| 6125200| 13800|        31670| 262840|            286700| 1858900|      3482700|       783600|             38411900|\n",
      "|1969| 201385000| 7410900| 661870| 6749000| 14760|        37170| 298850|            311090| 1981900|      3888600|       878500|             45160900|\n",
      "|1970| 203235298| 8098000| 738820| 7359200| 16000|        37990| 349860|            334970| 2205000|      4225800|       928400|             52520100|\n",
      "|1971| 206212000| 8588200| 816500| 7771700| 17780|        42260| 387700|            368760| 2399300|      4424200|       948200|             60291800|\n",
      "|1972| 208230000| 8248800| 834900| 7413900| 18670|        46850| 376290|            393090| 2375500|      4151200|       887200|             67705700|\n",
      "|1973| 209851000| 8718100| 875910| 7842200| 19640|        51400| 384220|            420650| 2565500|      4347900|       928800|             75547900|\n",
      "|1974| 211392000|10253400| 974720| 9278700| 20710|        55400| 442400|            456210| 3039200|      5262500|       977100|             84826600|\n",
      "|1975| 213124000|11292400|1039710|10252700| 20510|        56090| 470500|            492620| 3265300|      5977700|      1009600|             95079300|\n",
      "|1976| 214659000|11349700|1004210|10345500| 18780|        57080| 427810|            500530| 3108700|      6270800|       966000|            105424800|\n",
      "|1977| 216332000|10984500|1029580| 9955000| 19120|        63500| 412610|            534350| 3071500|      5905700|       977700|            115379800|\n",
      "|1978| 218059000|11209000|1085550|10123400| 19560|        67610| 426930|            571460| 3128300|      5991000|      1004100|            125503200|\n",
      "|1979| 220099000|12249500|1208030|11041500| 21460|        76390| 480700|            629480| 3327700|      6601000|      1112800|            136544700|\n",
      "+----+----------+--------+-------+--------+------+-------------+-------+------------------+--------+-------------+-------------+---------------------+\n",
      "only showing top 20 rows\n",
      "\n"
     ]
    },
    {
     "name": "stderr",
     "output_type": "stream",
     "text": [
      "23/09/04 09:39:26 WARN WindowExec: No Partition Defined for Window operation! Moving all data to a single partition, this can cause serious performance degradation.\n",
      "23/09/04 09:39:26 WARN WindowExec: No Partition Defined for Window operation! Moving all data to a single partition, this can cause serious performance degradation.\n",
      "23/09/04 09:39:26 WARN WindowExec: No Partition Defined for Window operation! Moving all data to a single partition, this can cause serious performance degradation.\n",
      "23/09/04 09:39:26 WARN WindowExec: No Partition Defined for Window operation! Moving all data to a single partition, this can cause serious performance degradation.\n",
      "23/09/04 09:39:26 WARN WindowExec: No Partition Defined for Window operation! Moving all data to a single partition, this can cause serious performance degradation.\n"
     ]
    }
   ],
   "source": [
    "#sql\n",
    "\n",
    "window_query = spark.sql('''\n",
    "                    select *,\n",
    "                    sum(property) OVER (order by Year ROWS BETWEEN UNBOUNDED PRECEDING AND CURRENT ROW) AS CumulativePropertySum\n",
    "                    from crime_rates\n",
    "                        ''')\n",
    "\n",
    "window_query.show()"
   ]
  },
  {
   "attachments": {},
   "cell_type": "markdown",
   "metadata": {},
   "source": [
    "### Pivot\n",
    "Question: You are working with a DataFrame named US_Crime_Rates_1960_2014_df that contains crime data for different crime types over the years. "
   ]
  },
  {
   "cell_type": "code",
   "execution_count": null,
   "metadata": {},
   "outputs": [],
   "source": [
    "crimes=[\"Violent\",\"Property\",\"Murder\",\"Forcible_Rape\",\"Robbery\",\"Aggravated_assault\",\"Burglary\",\"Larceny_Theft\",\"Vehicle_Theft\"]\n"
   ]
  },
  {
   "cell_type": "code",
   "execution_count": null,
   "metadata": {},
   "outputs": [
    {
     "name": "stdout",
     "output_type": "stream",
     "text": [
      "+-------+--------+------+-------------+-------+------------------+--------+-------------+-------------+\n",
      "|Violent|Property|Murder|Forcible_Rape|Robbery|Aggravated_assault|Burglary|Larceny_Theft|Vehicle_Theft|\n",
      "+-------+--------+------+-------------+-------+------------------+--------+-------------+-------------+\n",
      "| 288460| 3095700|  9110|        17190| 107840|            154320|  912100|      1855400|       328200|\n",
      "| 289390| 3198600|  8740|        17220| 106670|            156760|  949600|      1913000|       336000|\n",
      "| 301510| 3450700|  8530|        17550| 110860|            164570|  994300|      2089600|       366800|\n",
      "| 316970| 3792500|  8640|        17650| 116470|            174210| 1086400|      2297800|       408300|\n",
      "| 364220| 4200400|  9360|        21420| 130390|            203050| 1213200|      2514400|       472800|\n",
      "| 387390| 4352000|  9960|        23410| 138690|            215330| 1282500|      2572600|       496900|\n",
      "| 430180| 4793300| 11040|        25820| 157990|            235330| 1410100|      2822000|       561200|\n",
      "| 499930| 5403500| 12240|        27620| 202910|            257160| 1632100|      3111600|       659800|\n",
      "| 595010| 6125200| 13800|        31670| 262840|            286700| 1858900|      3482700|       783600|\n",
      "| 661870| 6749000| 14760|        37170| 298850|            311090| 1981900|      3888600|       878500|\n",
      "| 738820| 7359200| 16000|        37990| 349860|            334970| 2205000|      4225800|       928400|\n",
      "| 816500| 7771700| 17780|        42260| 387700|            368760| 2399300|      4424200|       948200|\n",
      "| 834900| 7413900| 18670|        46850| 376290|            393090| 2375500|      4151200|       887200|\n",
      "| 875910| 7842200| 19640|        51400| 384220|            420650| 2565500|      4347900|       928800|\n",
      "| 974720| 9278700| 20710|        55400| 442400|            456210| 3039200|      5262500|       977100|\n",
      "|1039710|10252700| 20510|        56090| 470500|            492620| 3265300|      5977700|      1009600|\n",
      "|1004210|10345500| 18780|        57080| 427810|            500530| 3108700|      6270800|       966000|\n",
      "|1029580| 9955000| 19120|        63500| 412610|            534350| 3071500|      5905700|       977700|\n",
      "|1085550|10123400| 19560|        67610| 426930|            571460| 3128300|      5991000|      1004100|\n",
      "|1208030|11041500| 21460|        76390| 480700|            629480| 3327700|      6601000|      1112800|\n",
      "+-------+--------+------+-------------+-------+------------------+--------+-------------+-------------+\n",
      "only showing top 20 rows\n",
      "\n"
     ]
    }
   ],
   "source": [
    "selected_df = US_Crime_Rates_1960_2014_df.select(crimes)\n",
    "selected_df.show()\n"
   ]
  },
  {
   "cell_type": "code",
   "execution_count": 45,
   "metadata": {},
   "outputs": [
    {
     "ename": "NameError",
     "evalue": "name 'selected_df' is not defined",
     "output_type": "error",
     "traceback": [
      "\u001b[0;31m---------------------------------------------------------------------------\u001b[0m",
      "\u001b[0;31mNameError\u001b[0m                                 Traceback (most recent call last)",
      "Cell \u001b[0;32mIn[45], line 1\u001b[0m\n\u001b[0;32m----> 1\u001b[0m pivoted_df \u001b[39m=\u001b[39m selected_df\u001b[39m.\u001b[39mgroupBy(\u001b[39m\"\u001b[39m\u001b[39mYear\u001b[39m\u001b[39m\"\u001b[39m)\u001b[39m.\u001b[39mpivot(crimes)\u001b[39m.\u001b[39msum()\n\u001b[1;32m      2\u001b[0m pivoted_df\u001b[39m.\u001b[39mshow()\n",
      "\u001b[0;31mNameError\u001b[0m: name 'selected_df' is not defined"
     ]
    }
   ],
   "source": [
    "\n",
    "pivoted_df = selected_df.groupBy(\"Year\").pivot(crimes).sum()\n",
    "pivoted_df.show()"
   ]
  },
  {
   "cell_type": "code",
   "execution_count": null,
   "metadata": {},
   "outputs": [],
   "source": []
  }
 ],
 "metadata": {
  "kernelspec": {
   "display_name": "venv2",
   "language": "python",
   "name": "venv2"
  },
  "language_info": {
   "codemirror_mode": {
    "name": "ipython",
    "version": 3
   },
   "file_extension": ".py",
   "mimetype": "text/x-python",
   "name": "python",
   "nbconvert_exporter": "python",
   "pygments_lexer": "ipython3",
   "version": "3.10.12"
  },
  "orig_nbformat": 4
 },
 "nbformat": 4,
 "nbformat_minor": 2
}
